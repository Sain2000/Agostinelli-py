{
 "cells": [
  {
   "cell_type": "markdown",
   "id": "6bad970b",
   "metadata": {},
   "source": [
    "# Ejercicio 11"
   ]
  },
  {
   "cell_type": "markdown",
   "id": "d9a3451a",
   "metadata": {},
   "source": [
    "# Primero abrimos los archivos en modo solo lectura."
   ]
  },
  {
   "cell_type": "code",
   "execution_count": 79,
   "id": "daae3e52",
   "metadata": {},
   "outputs": [],
   "source": [
    "nombres1=open(\"nombres_1.txt\", 'r',encoding = 'utf-8')\n",
    "nombres2=open(\"nombres_2.txt\", 'r',encoding = 'utf-8')"
   ]
  },
  {
   "cell_type": "markdown",
   "id": "fa15429f",
   "metadata": {},
   "source": [
    "## Creamos listas de nombres a partir de los archivos."
   ]
  },
  {
   "cell_type": "code",
   "execution_count": 80,
   "id": "46cf1ef7",
   "metadata": {},
   "outputs": [],
   "source": [
    "lista_nombres1=nombres1.read().replace(',', \"\").replace('\\'',\"\").split()\n",
    "lista_nombres2=nombres2.read().replace(',', \"\").replace('\\'',\"\").split()"
   ]
  },
  {
   "cell_type": "markdown",
   "id": "54a4bf88",
   "metadata": {},
   "source": [
    "## Usando list comprehension creamos una lista de nombres únicos en común. Cada elemento de la lista 1 solo se agregará a la nueva lista si se encuentra en la lista 2."
   ]
  },
  {
   "cell_type": "code",
   "execution_count": 81,
   "id": "ca7629a7",
   "metadata": {},
   "outputs": [
    {
     "name": "stdout",
     "output_type": "stream",
     "text": [
      "{'CESAR', 'MATEO', 'ELIANA', 'Matias', 'JUAN', 'Facundo', 'Ignacio', 'Marcos', 'Yanina', 'Bautista', 'Diego', 'Ulises', 'Agustin', 'Tomás', 'Juan'}\n"
     ]
    }
   ],
   "source": [
    "print(set([x for x in lista_nombres1 if x in lista_nombres2]))"
   ]
  },
  {
   "cell_type": "code",
   "execution_count": 82,
   "id": "d7d71960",
   "metadata": {},
   "outputs": [],
   "source": [
    "eval1=open(\"eval1.txt\", 'r',encoding = 'utf-8')\n",
    "eval2=open(\"eval2.txt\", 'r',encoding = 'utf-8')\n",
    "lista_eval1=eval1.read().replace(',', \"\").replace('\\'',\"\").lower().split()\n",
    "lista_eval2=eval2.read().replace(',', \"\").replace('\\'',\"\").lower().split()"
   ]
  },
  {
   "cell_type": "markdown",
   "id": "d8f22080",
   "metadata": {},
   "source": [
    "## mostrar_notas imprime la tabla de notas en el formato solicitado. Para ello hace uso de un f-string y su alignment."
   ]
  },
  {
   "cell_type": "code",
   "execution_count": 83,
   "id": "3357578b",
   "metadata": {},
   "outputs": [],
   "source": [
    "def mostrar_notas(lista_nombres1, lista_eval1, lista_eval2):\n",
    "    i=0\n",
    "    print(\"   Nombre      \"+\"Eval1   \"+\"Eval2   \"+\"Total\")\n",
    "    for nombre in lista_nombres1:\n",
    "        print(f\"{i:>2} {nombre:<14}{lista_eval1[i]:>2}{lista_eval2[i]:>8}{int(lista_eval1[i])+int(lista_eval2[i]):>8}\")\n",
    "        i+=1\n",
    "            \n",
    "        \n",
    "        "
   ]
  },
  {
   "cell_type": "code",
   "execution_count": 84,
   "id": "bc761dd1",
   "metadata": {},
   "outputs": [
    {
     "name": "stdout",
     "output_type": "stream",
     "text": [
      "   Nombre      Eval1   Eval2   Total\n",
      " 0 Agustin       81      30     111\n",
      " 1 Alan          60      95     155\n",
      " 2 Andrés        72      28     100\n",
      " 3 Ariadna       24      84     108\n",
      " 4 Bautista      15      84      99\n",
      " 5 CAROLINA      91      43     134\n",
      " 6 CESAR         12      66      78\n",
      " 7 David         70      51     121\n",
      " 8 Diego         29       4      33\n",
      " 9 Dolores       42      11      53\n",
      "10 DYLAN         16      58      74\n",
      "11 ELIANA         3      10      13\n",
      "12 Emanuel       35      13      48\n",
      "13 Fabián        67      34     101\n",
      "14 Facundo       10      96     106\n",
      "15 Facundo       57      71     128\n",
      "16 FEDERICO      11      86      97\n",
      "17 FEDERICO      69      37     106\n",
      "18 GONZALO       12      64      76\n",
      "19 Gregorio      77      13      90\n",
      "20 Ignacio       13       8      21\n",
      "21 Jonathan      86      87     173\n",
      "22 Jonathan      48      14      62\n",
      "23 Jorge         65      14      79\n",
      "24 JOSE          51      49     100\n",
      "25 JUAN          41      27      68\n",
      "26 Juan          87      55     142\n",
      "27 Juan          43      69     112\n",
      "28 Julian        10      77      87\n",
      "29 Julieta       87      59     146\n",
      "30 LAUTARO       91      57     148\n",
      "31 Leonel        15      40      55\n",
      "32 LUIS          44      96     140\n",
      "33 Luis          85      24     109\n",
      "34 Marcos        73      30     103\n",
      "35 María         37      73     110\n",
      "36 MATEO         42      95     137\n",
      "37 Matias        95      19     114\n",
      "38 Nicolás       18      47      65\n",
      "39 NICOLÁS        7      15      22\n",
      "40 Noelia        74      31     105\n",
      "41 Pablo         60      39      99\n",
      "42 Priscila       9      15      24\n",
      "43 TOMAS         65      74     139\n",
      "44 Tomás         93      33     126\n",
      "45 Ulises        63      57     120\n",
      "46 Yanina        74      10      84\n"
     ]
    }
   ],
   "source": [
    "mostrar_notas(lista_nombres1, lista_eval1, lista_eval2)"
   ]
  },
  {
   "cell_type": "markdown",
   "id": "42fc86b7",
   "metadata": {},
   "source": [
    "## Cerramos los archivos."
   ]
  },
  {
   "cell_type": "code",
   "execution_count": 85,
   "id": "fcbc9e52",
   "metadata": {},
   "outputs": [],
   "source": [
    "nombres1.close()\n",
    "nombres2.close()\n",
    "eval1.close()\n",
    "eval2.close()"
   ]
  },
  {
   "cell_type": "markdown",
   "id": "4f2d5fbd",
   "metadata": {},
   "source": [
    "# Fin del algoritmo."
   ]
  }
 ],
 "metadata": {
  "kernelspec": {
   "display_name": "Python 3 (ipykernel)",
   "language": "python",
   "name": "python3"
  },
  "language_info": {
   "codemirror_mode": {
    "name": "ipython",
    "version": 3
   },
   "file_extension": ".py",
   "mimetype": "text/x-python",
   "name": "python",
   "nbconvert_exporter": "python",
   "pygments_lexer": "ipython3",
   "version": "3.10.3"
  }
 },
 "nbformat": 4,
 "nbformat_minor": 5
}
